{
  "nbformat": 4,
  "nbformat_minor": 0,
  "metadata": {
    "colab": {
      "provenance": []
    },
    "kernelspec": {
      "name": "python3",
      "display_name": "Python 3"
    },
    "language_info": {
      "name": "python"
    }
  },
  "cells": [
    {
      "cell_type": "code",
      "source": [
        "import numpy as np\n",
        "import pandas as pd\n",
        "\n",
        "from sklearn.model_selection import TimeSeriesSplit\n",
        "\n",
        "from sklearn.metrics import mean_squared_error\n",
        "from sklearn.linear_model import LinearRegression\n",
        "\n"
      ],
      "metadata": {
        "id": "1SNaeFx38Z5I"
      },
      "execution_count": 84,
      "outputs": []
    },
    {
      "cell_type": "markdown",
      "source": [
        "# Dataset"
      ],
      "metadata": {
        "id": "8vbAGBKLU9Pu"
      }
    },
    {
      "cell_type": "code",
      "source": [
        "np.random.seed(42)\n",
        "dates = pd.date_range(start='2020-01-01', end='2022-12-31', freq='D')\n",
        "ts = pd.Series(np.cumsum(np.random.randn(len(dates))), index=dates)\n",
        "\n",
        "X = pd.DataFrame(index=ts.index)\n",
        "\n",
        "X['lag1'] = ts.shift(1)\n",
        "\n",
        "y = ts.values\n"
      ],
      "metadata": {
        "id": "KxIfD5s_UyKw"
      },
      "execution_count": 85,
      "outputs": []
    },
    {
      "cell_type": "code",
      "source": [
        "X = X.dropna()\n",
        "y = y[1:]\n",
        "\n"
      ],
      "metadata": {
        "id": "QFEWYKRVVKKT"
      },
      "execution_count": 86,
      "outputs": []
    },
    {
      "cell_type": "code",
      "source": [
        "def expanding_window_cv(X, y, min_train_size=365, step=30):\n",
        "    n_samples = len(y)\n",
        "    for train_end in range(min_train_size, n_samples, step):\n",
        "        yield (np.arange(train_end), np.arange(train_end, min(train_end + step, n_samples)))\n"
      ],
      "metadata": {
        "id": "NbR3GxPyVQYd"
      },
      "execution_count": 87,
      "outputs": []
    },
    {
      "cell_type": "code",
      "source": [
        "\n",
        "model = LinearRegression()\n",
        "mse_scores_expanding = []\n",
        "\n"
      ],
      "metadata": {
        "id": "q5BYstxaVYxW"
      },
      "execution_count": 88,
      "outputs": []
    },
    {
      "cell_type": "code",
      "source": [
        "for train_index, test_index in expanding_window_cv(X, y):\n",
        "    X_train, X_test = X.iloc[train_index], X.iloc[test_index]\n",
        "    y_train, y_test = y[train_index], y[test_index]\n",
        "\n",
        "    model.fit(X_train, y_train)\n",
        "    y_pred = model.predict(X_test)\n",
        "    mse = mean_squared_error(y_test, y_pred)\n",
        "    mse_scores_expanding.append(mse)\n",
        "    print(f\"Train size: {len(train_index)}, Test size: {len(test_index)}, MSE: {mse:.4f}\")\n",
        "\n",
        "print(f\"Average MSE (Expanding Window): {np.mean(mse_scores_expanding):.4f}\\n\")\n",
        "\n"
      ],
      "metadata": {
        "id": "_vxntlADVueZ",
        "outputId": "e96f42c3-27b2-4c13-d65d-da09a1ac0ded",
        "colab": {
          "base_uri": "https://localhost:8080/"
        }
      },
      "execution_count": 89,
      "outputs": [
        {
          "output_type": "stream",
          "name": "stdout",
          "text": [
            "Train size: 365, Test size: 30, MSE: 1.1989\n",
            "Train size: 395, Test size: 30, MSE: 1.1166\n",
            "Train size: 425, Test size: 30, MSE: 1.1142\n",
            "Train size: 455, Test size: 30, MSE: 1.2669\n",
            "Train size: 485, Test size: 30, MSE: 0.8449\n",
            "Train size: 515, Test size: 30, MSE: 1.0600\n",
            "Train size: 545, Test size: 30, MSE: 0.9159\n",
            "Train size: 575, Test size: 30, MSE: 0.7631\n",
            "Train size: 605, Test size: 30, MSE: 1.2057\n",
            "Train size: 635, Test size: 30, MSE: 1.0344\n",
            "Train size: 665, Test size: 30, MSE: 1.1476\n",
            "Train size: 695, Test size: 30, MSE: 0.9542\n",
            "Train size: 725, Test size: 30, MSE: 1.1205\n",
            "Train size: 755, Test size: 30, MSE: 0.8632\n",
            "Train size: 785, Test size: 30, MSE: 0.6038\n",
            "Train size: 815, Test size: 30, MSE: 0.8527\n",
            "Train size: 845, Test size: 30, MSE: 1.0954\n",
            "Train size: 875, Test size: 30, MSE: 1.0324\n",
            "Train size: 905, Test size: 30, MSE: 1.0761\n",
            "Train size: 935, Test size: 30, MSE: 0.7883\n",
            "Train size: 965, Test size: 30, MSE: 1.0758\n",
            "Train size: 995, Test size: 30, MSE: 1.0684\n",
            "Train size: 1025, Test size: 30, MSE: 0.8615\n",
            "Train size: 1055, Test size: 30, MSE: 1.1165\n",
            "Train size: 1085, Test size: 10, MSE: 0.2197\n",
            "Average MSE (Expanding Window): 0.9759\n",
            "\n"
          ]
        }
      ]
    },
    {
      "cell_type": "code",
      "source": [
        "tscv = TimeSeriesSplit(n_splits=5, test_size=30, gap=0)\n",
        "mse_scores_sliding = []\n",
        "\n"
      ],
      "metadata": {
        "id": "JoeceSMpV1bg"
      },
      "execution_count": 90,
      "outputs": []
    },
    {
      "cell_type": "code",
      "source": [
        "for train_index, test_index in tscv.split(X):\n",
        "    X_train, X_test = X.iloc[train_index], X.iloc[test_index]\n",
        "    y_train, y_test = y[train_index], y[test_index]\n",
        "\n",
        "    model.fit(X_train, y_train)\n",
        "    y_pred = model.predict(X_test)\n",
        "    mse = mean_squared_error(y_test, y_pred)\n",
        "    mse_scores_sliding.append(mse)\n",
        "    print(f\"Train size: {len(train_index)}, Test size: {len(test_index)}, MSE: {mse:.4f}\")\n",
        "\n",
        "print(f\"Average MSE (Sliding Window): {np.mean(mse_scores_sliding):.4f}\")"
      ],
      "metadata": {
        "id": "Hw6CxIU0V63A",
        "outputId": "d80a0610-fada-4060-af24-79e36119d24e",
        "colab": {
          "base_uri": "https://localhost:8080/"
        }
      },
      "execution_count": 91,
      "outputs": [
        {
          "output_type": "stream",
          "name": "stdout",
          "text": [
            "Train size: 945, Test size: 30, MSE: 0.8334\n",
            "Train size: 975, Test size: 30, MSE: 0.9734\n",
            "Train size: 1005, Test size: 30, MSE: 1.0004\n",
            "Train size: 1035, Test size: 30, MSE: 1.1569\n",
            "Train size: 1065, Test size: 30, MSE: 0.6404\n",
            "Average MSE (Sliding Window): 0.9209\n"
          ]
        }
      ]
    },
    {
      "cell_type": "code",
      "source": [],
      "metadata": {
        "id": "R_Plbp0wWATK"
      },
      "execution_count": null,
      "outputs": []
    }
  ]
}