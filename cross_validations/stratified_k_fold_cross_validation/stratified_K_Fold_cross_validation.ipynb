{
  "nbformat": 4,
  "nbformat_minor": 0,
  "metadata": {
    "colab": {
      "provenance": []
    },
    "kernelspec": {
      "name": "python3",
      "display_name": "Python 3"
    },
    "language_info": {
      "name": "python"
    }
  },
  "cells": [
    {
      "cell_type": "code",
      "source": [
        "import pandas as pd\n",
        "import numpy as np\n",
        "import matplotlib.pyplot as plt\n",
        "import seaborn as sns\n",
        "\n",
        "from sklearn.datasets import make_classification\n",
        "from sklearn.model_selection import train_test_split\n",
        "from sklearn.svm import SVC\n",
        "from sklearn.metrics import accuracy_score\n",
        "\n",
        "from sklearn.model_selection import StratifiedKFold\n",
        "\n",
        "pd.set_option(\"display.max_columns\",None)"
      ],
      "metadata": {
        "id": "1SNaeFx38Z5I"
      },
      "execution_count": 75,
      "outputs": []
    },
    {
      "cell_type": "markdown",
      "source": [
        "# dataset"
      ],
      "metadata": {
        "id": "sw7XluRR831C"
      }
    },
    {
      "cell_type": "code",
      "source": [
        "X, y = make_classification(n_samples=1000, n_classes=2, weights=[0.7, 0.3],\n",
        "                           n_informative=3, n_redundant=1, flip_y=0.1,\n",
        "                           n_features=20, random_state=42)\n"
      ],
      "metadata": {
        "id": "0v2jNPRB8afH"
      },
      "execution_count": 76,
      "outputs": []
    },
    {
      "cell_type": "markdown",
      "source": [
        "# stratified_K-Fold cross validations"
      ],
      "metadata": {
        "id": "bPb1XO2L9Yrk"
      }
    },
    {
      "cell_type": "markdown",
      "source": [
        "Stratified K-fold cross-validation is a variation of K-fold cross-validation that ensures each fold has a similar distribution of class labels, maintaining the original dataset’s class proportions in each training and test set."
      ],
      "metadata": {
        "id": "NOdjfsfZ-4e-"
      }
    },
    {
      "cell_type": "code",
      "source": [
        "skf = StratifiedKFold(n_splits = 5,shuffle = True,random_state=42)"
      ],
      "metadata": {
        "id": "sdZN85-g9XQu"
      },
      "execution_count": 72,
      "outputs": []
    },
    {
      "cell_type": "code",
      "source": [
        "model = SVC(kernel=\"linear\",random_state=42)\n",
        "accuracies = []"
      ],
      "metadata": {
        "id": "-qxGyCRu9lhQ"
      },
      "execution_count": 77,
      "outputs": []
    },
    {
      "cell_type": "code",
      "source": [
        "for fold, (train_index, test_index) in enumerate(skf.split(X, y), 1):\n",
        "    X_train, X_test = X[train_index], X[test_index]\n",
        "    y_train, y_test = y[train_index], y[test_index]\n",
        "\n",
        "    model.fit(X_train,y_train)\n",
        "    pred = model.predict(X_test)\n",
        "\n",
        "    accuracies.append(accuracy_score(y_test,pred))\n",
        ""
      ],
      "metadata": {
        "id": "LQxwLjQW9rxl"
      },
      "execution_count": 79,
      "outputs": []
    },
    {
      "cell_type": "code",
      "source": [
        "print(f\"average accuracy {np.mean(accuracies)}\")"
      ],
      "metadata": {
        "colab": {
          "base_uri": "https://localhost:8080/"
        },
        "id": "P6FN5gty9-MK",
        "outputId": "073622fd-f54e-4f28-eb76-f2e976ad6493"
      },
      "execution_count": 82,
      "outputs": [
        {
          "output_type": "stream",
          "name": "stdout",
          "text": [
            "average accuracy 0.893\n"
          ]
        }
      ]
    }
  ]
}