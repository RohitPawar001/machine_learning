{
  "nbformat": 4,
  "nbformat_minor": 0,
  "metadata": {
    "colab": {
      "provenance": []
    },
    "kernelspec": {
      "name": "python3",
      "display_name": "Python 3"
    },
    "language_info": {
      "name": "python"
    }
  },
  "cells": [
    {
      "cell_type": "code",
      "execution_count": 2,
      "metadata": {
        "id": "ro1l484jD637"
      },
      "outputs": [],
      "source": [
        "import numpy as np\n",
        "import pandas as pd\n",
        "import matplotlib.pyplot as plt\n",
        "import seaborn as sns\n",
        "\n",
        "from sklearn.cluster import DBSCAN\n",
        "from sklearn.datasets import make_blobs"
      ]
    },
    {
      "cell_type": "markdown",
      "source": [
        "# generating dataset"
      ],
      "metadata": {
        "id": "d3R_7ERrEVpI"
      }
    },
    {
      "cell_type": "code",
      "source": [
        "np.random.seed(42)\n",
        "X, _ = make_blobs(n_samples=300, centers=3, cluster_std=0.60, random_state=0)\n",
        "X = np.concatenate([X, np.random.uniform(low=-10, high=10, size=(20, 2))], axis=0)"
      ],
      "metadata": {
        "id": "xO6T6CPFEOqr"
      },
      "execution_count": 3,
      "outputs": []
    },
    {
      "cell_type": "code",
      "source": [
        "X"
      ],
      "metadata": {
        "colab": {
          "base_uri": "https://localhost:8080/"
        },
        "id": "DaMwClPNEeJ4",
        "outputId": "e44d7002-efa5-4d9c-de3a-d292bfb40005"
      },
      "execution_count": 6,
      "outputs": [
        {
          "output_type": "execute_result",
          "data": {
            "text/plain": [
              "array([[ 4.28576743e-01,  4.97399710e+00],\n",
              "       [ 1.61990909e+00,  6.76452867e-02],\n",
              "       [ 1.43289271e+00,  4.37679234e+00],\n",
              "       [-1.57846247e+00,  3.03445802e+00],\n",
              "       [-1.65862863e+00,  2.26746029e+00],\n",
              "       [-1.52172727e+00,  3.23408479e+00],\n",
              "       [ 8.36856841e-01,  2.13635938e+00],\n",
              "       [ 2.41008767e-01,  4.81040511e+00],\n",
              "       [-2.10320664e+00,  2.44201184e+00],\n",
              "       [-4.83580407e-01,  3.51451890e+00],\n",
              "       [ 8.93499638e-01,  1.01093082e+00],\n",
              "       [ 2.39564169e+00,  7.64058600e-01],\n",
              "       [ 3.04414848e+00,  9.96200313e-01],\n",
              "       [ 1.24258802e+00,  4.50399192e+00],\n",
              "       [ 1.89462740e+00,  2.20856861e-01],\n",
              "       [-1.65707376e+00,  3.18511821e+00],\n",
              "       [ 1.21767506e+00,  3.89290127e+00],\n",
              "       [ 1.20212540e+00,  3.64414685e+00],\n",
              "       [-1.32356154e+00,  4.13050840e+00],\n",
              "       [ 1.34195197e+00,  5.93573847e-01],\n",
              "       [-1.79041773e+00,  3.02668532e+00],\n",
              "       [ 1.16411070e+00,  3.79132988e+00],\n",
              "       [ 1.36085437e+00,  7.10288309e-01],\n",
              "       [ 4.38990142e-01,  4.53592883e+00],\n",
              "       [-2.53563494e+00,  2.38449945e+00],\n",
              "       [-2.08499791e+00,  2.81072881e+00],\n",
              "       [ 3.47138300e-01,  3.45177657e+00],\n",
              "       [-2.14486518e+00,  2.70791624e+00],\n",
              "       [ 2.40238042e+00,  1.10745633e+00],\n",
              "       [ 2.46915842e+00,  1.67877140e+00],\n",
              "       [-1.17297612e+00,  2.69956698e+00],\n",
              "       [ 3.33818506e-01,  4.93645836e+00],\n",
              "       [ 1.35140895e+00,  3.34255273e+00],\n",
              "       [ 2.14917144e+00,  1.03697228e+00],\n",
              "       [ 2.51921931e+00,  1.87335276e-01],\n",
              "       [-2.69798647e+00,  2.52194722e+00],\n",
              "       [ 2.35151259e+00,  8.28001297e-01],\n",
              "       [-8.79985631e-01,  1.38237146e+00],\n",
              "       [ 5.14320434e-01,  4.62733684e+00],\n",
              "       [ 1.10550448e+00,  1.26389129e+00],\n",
              "       [-1.60553642e+00,  3.59773019e+00],\n",
              "       [ 2.22707373e+00,  1.26296996e+00],\n",
              "       [ 2.87788887e-01,  4.04109530e+00],\n",
              "       [ 1.56724897e+00,  1.78090633e-02],\n",
              "       [ 1.67841499e+00,  6.09047389e-01],\n",
              "       [-1.42854687e+00,  2.97567507e+00],\n",
              "       [ 2.22353254e+00,  3.01789493e-01],\n",
              "       [-1.76233741e+00,  1.09019643e+00],\n",
              "       [-8.49747575e-01,  3.21548283e+00],\n",
              "       [ 1.69607516e+00,  2.28125468e-01],\n",
              "       [-1.86849125e+00,  3.07982487e+00],\n",
              "       [ 1.96066731e+00,  2.25169776e+00],\n",
              "       [-1.93371948e+00,  3.69658974e+00],\n",
              "       [-1.03819212e+00,  2.95323761e+00],\n",
              "       [ 1.37917204e+00,  4.59257008e-01],\n",
              "       [ 4.31891060e-01,  4.33495456e+00],\n",
              "       [ 8.15468056e-01,  4.78526116e+00],\n",
              "       [-1.22768985e+00,  3.54666555e+00],\n",
              "       [-2.94540830e+00,  2.93008277e+00],\n",
              "       [ 1.89593761e+00,  5.18540259e+00],\n",
              "       [ 1.48170052e+00,  6.90074595e-01],\n",
              "       [ 3.22881491e+00,  1.13171965e+00],\n",
              "       [ 5.71670482e-01,  4.32288566e+00],\n",
              "       [-2.23439877e+00,  3.69873910e+00],\n",
              "       [ 2.56024628e+00,  7.47988512e-01],\n",
              "       [-2.90007604e+00,  3.06877291e+00],\n",
              "       [ 9.52700388e-01,  3.60293123e+00],\n",
              "       [ 1.81559810e+00,  1.11969719e+00],\n",
              "       [ 5.94762432e-01,  4.70964730e+00],\n",
              "       [ 1.72955064e+00,  1.14729369e+00],\n",
              "       [-8.18076852e-01,  2.53874001e+00],\n",
              "       [-6.14907097e-01,  3.94963585e+00],\n",
              "       [-2.94865616e+00,  3.43631364e+00],\n",
              "       [-1.00140436e+00,  2.84881778e+00],\n",
              "       [ 1.97504659e+00,  1.54430994e+00],\n",
              "       [ 1.10123507e+00,  4.88977075e+00],\n",
              "       [ 2.22322228e+00,  8.38773426e-01],\n",
              "       [-1.83741544e+00,  2.33058435e+00],\n",
              "       [ 7.54760976e-01,  4.16015982e+00],\n",
              "       [ 1.01618041e+00,  4.48527047e+00],\n",
              "       [-2.37048176e+00,  2.56384767e+00],\n",
              "       [ 1.52878537e+00,  4.49502392e+00],\n",
              "       [ 2.87398663e+00,  4.83994149e-01],\n",
              "       [ 1.86725632e-01,  4.02683656e+00],\n",
              "       [ 5.32532281e-01,  5.22959608e+00],\n",
              "       [ 2.40615694e+00,  4.87047502e+00],\n",
              "       [ 1.20083098e+00,  6.01671730e-01],\n",
              "       [-2.39482483e+00,  3.39806103e+00],\n",
              "       [ 9.35325115e-01,  5.33179296e+00],\n",
              "       [ 4.94224280e-01,  3.89005746e+00],\n",
              "       [-8.69095906e-01,  2.77735278e+00],\n",
              "       [ 2.93521475e+00,  1.40919482e+00],\n",
              "       [-2.45716162e+00,  3.16827355e+00],\n",
              "       [ 1.87271752e+00,  4.18069237e+00],\n",
              "       [ 2.36790645e+00,  5.52190878e-01],\n",
              "       [ 1.98436909e+00,  4.89556738e-01],\n",
              "       [ 2.13979079e-01,  4.88542535e+00],\n",
              "       [ 9.94144451e-01,  1.11095274e+00],\n",
              "       [-2.50648473e+00,  1.97722163e+00],\n",
              "       [ 7.63873732e-01,  3.47881655e+00],\n",
              "       [ 2.47153141e+00,  8.01919597e-01],\n",
              "       [-9.89747849e-01,  3.74286070e+00],\n",
              "       [ 9.82570091e-01,  5.37530962e+00],\n",
              "       [ 2.50358052e+00,  1.84296687e-01],\n",
              "       [ 1.63606584e+00,  4.69694557e+00],\n",
              "       [ 1.54462126e+00,  4.21078127e+00],\n",
              "       [-2.10956676e+00,  3.10677258e+00],\n",
              "       [ 1.19008992e+00,  4.72773123e+00],\n",
              "       [ 1.63244736e+00,  1.46362009e+00],\n",
              "       [ 1.25471244e+00,  8.96331565e-02],\n",
              "       [ 3.55724373e-01,  4.71274404e+00],\n",
              "       [-1.31583595e+00,  3.14542358e+00],\n",
              "       [ 2.27421165e+00,  5.10570410e+00],\n",
              "       [ 1.05241733e+00,  4.54498095e+00],\n",
              "       [-1.68389128e+00,  2.80853539e+00],\n",
              "       [-1.75769127e+00,  2.65158061e+00],\n",
              "       [ 3.13640075e-01,  4.33508638e+00],\n",
              "       [ 2.09680545e+00,  4.84741412e+00],\n",
              "       [ 7.01928984e-01,  2.84159554e-01],\n",
              "       [ 2.45509737e+00,  6.21231788e-01],\n",
              "       [ 1.03640403e+00,  1.13003195e+00],\n",
              "       [-2.87066645e+00,  3.15878169e+00],\n",
              "       [ 1.64003761e+00,  1.81948989e+00],\n",
              "       [ 1.48859977e+00,  6.51633844e-01],\n",
              "       [ 2.31102276e+00,  1.30380848e+00],\n",
              "       [-1.63793622e+00,  2.43329317e+00],\n",
              "       [ 1.77710994e+00,  1.18655254e+00],\n",
              "       [ 1.79071394e+00,  7.29450363e-01],\n",
              "       [ 1.46396108e+00,  1.45626555e-02],\n",
              "       [-2.78366586e+00,  2.99211541e+00],\n",
              "       [-1.24902582e+00,  3.08533972e+00],\n",
              "       [-1.73537440e+00,  2.56912118e+00],\n",
              "       [ 5.90099037e-01,  2.96974544e+00],\n",
              "       [-2.29471752e+00,  2.56662354e+00],\n",
              "       [-1.76404140e+00,  2.22222995e+00],\n",
              "       [ 1.82433964e+00,  9.54274614e-01],\n",
              "       [-1.55432639e+00,  3.05018685e+00],\n",
              "       [ 5.72793810e-01,  4.08805543e+00],\n",
              "       [-1.67211591e+00,  3.82883896e+00],\n",
              "       [-1.38163324e+00,  2.38465011e+00],\n",
              "       [ 1.83645139e+00,  9.91685973e-01],\n",
              "       [ 2.77180174e-01,  4.84428322e+00],\n",
              "       [ 1.94087543e+00,  6.60753952e-01],\n",
              "       [ 1.25566754e+00,  3.38204112e+00],\n",
              "       [-1.00552592e+00,  3.08400540e+00],\n",
              "       [-1.71237268e+00,  2.77780226e+00],\n",
              "       [ 2.24592863e-01,  4.77028154e+00],\n",
              "       [-1.35633621e+00,  3.96348353e+00],\n",
              "       [-1.25245465e+00,  2.33911505e+00],\n",
              "       [ 1.66389136e+00,  5.84950073e-01],\n",
              "       [ 6.69786996e-01,  3.59540802e+00],\n",
              "       [-1.39881598e+00,  2.19273807e+00],\n",
              "       [ 6.70478769e-01,  4.04094275e+00],\n",
              "       [ 2.74666646e+00,  1.54543482e+00],\n",
              "       [-1.66046742e+00,  2.37003473e+00],\n",
              "       [-1.85948979e+00,  2.63549967e+00],\n",
              "       [ 1.88016510e+00,  4.40768333e-01],\n",
              "       [ 2.36960214e+00,  9.50716912e-01],\n",
              "       [ 7.34363910e-01,  5.03725437e+00],\n",
              "       [ 1.84320847e+00, -7.22208533e-02],\n",
              "       [-4.74920358e-02,  5.47425256e+00],\n",
              "       [ 1.71444449e+00,  5.02521524e+00],\n",
              "       [ 1.98894313e+00,  1.50976729e+00],\n",
              "       [ 4.59534668e-01,  5.44982630e+00],\n",
              "       [-9.69200946e-01,  3.26721702e+00],\n",
              "       [ 2.10616050e+00,  3.49513189e+00],\n",
              "       [ 1.49036845e+00,  3.91317197e+00],\n",
              "       [ 1.32222457e+00,  4.17880807e+00],\n",
              "       [ 4.88382309e-01,  3.26801777e+00],\n",
              "       [-1.31404940e+00,  3.28801419e+00],\n",
              "       [ 3.41085289e+00,  8.72309369e-01],\n",
              "       [ 1.00372519e+00,  4.19147702e+00],\n",
              "       [-9.64858535e-01,  3.76527888e+00],\n",
              "       [ 2.08496451e+00,  1.19396573e+00],\n",
              "       [ 1.42811550e+00,  1.62435083e+00],\n",
              "       [ 2.95195825e+00, -3.44327355e-01],\n",
              "       [ 5.95676822e-01,  4.08614263e+00],\n",
              "       [ 2.47434181e+00,  8.99926193e-01],\n",
              "       [ 6.77450608e-01,  5.46150656e+00],\n",
              "       [ 1.86922139e+00,  5.44132083e+00],\n",
              "       [ 2.21997734e+00,  3.63114610e-01],\n",
              "       [-1.03395259e+00,  2.92105785e+00],\n",
              "       [ 1.21387411e+00,  3.64795042e+00],\n",
              "       [ 1.06269622e+00,  5.17635143e+00],\n",
              "       [ 9.14338767e-01,  4.55014643e+00],\n",
              "       [ 4.43598630e-01,  3.11530945e+00],\n",
              "       [ 2.14043942e+00,  7.06066610e-01],\n",
              "       [-1.25463487e+00,  1.82003801e+00],\n",
              "       [ 7.43873988e-01,  4.12240568e+00],\n",
              "       [-1.04656513e+00,  2.96483837e+00],\n",
              "       [ 9.59360742e-01,  4.56078645e+00],\n",
              "       [ 1.15521298e+00,  5.09961887e+00],\n",
              "       [ 2.07844585e+00, -9.63654015e-02],\n",
              "       [ 1.62350489e+00,  4.09867867e-01],\n",
              "       [-1.92293781e+00,  3.02337363e+00],\n",
              "       [ 9.17198564e-01,  3.90570036e+00],\n",
              "       [ 2.69637316e+00,  6.25632178e-01],\n",
              "       [-1.80892374e+00,  2.78784338e+00],\n",
              "       [ 1.34471770e+00,  4.85711133e+00],\n",
              "       [-2.13772914e+00,  2.87116941e+00],\n",
              "       [ 1.97553917e+00,  7.18989132e-01],\n",
              "       [-1.60496819e+00,  2.97425420e+00],\n",
              "       [ 1.65991049e+00,  3.56289184e+00],\n",
              "       [-2.21078549e+00,  3.38885677e+00],\n",
              "       [ 2.02996465e+00,  7.25531345e-01],\n",
              "       [-1.06406044e+00,  3.53554556e+00],\n",
              "       [ 8.15155229e-02,  4.56742235e+00],\n",
              "       [-1.96433081e+00,  3.03581670e+00],\n",
              "       [ 7.15177948e-01,  5.41334556e+00],\n",
              "       [ 2.04585825e+00,  9.94220561e-01],\n",
              "       [ 1.08272576e+00,  4.06271877e+00],\n",
              "       [ 7.67522789e-01,  4.39759671e+00],\n",
              "       [-1.69230633e+00,  2.49204548e+00],\n",
              "       [ 1.59678117e+00,  3.49887757e-02],\n",
              "       [ 1.64486098e+00,  1.89339414e+00],\n",
              "       [ 1.27135141e+00,  1.89254207e+00],\n",
              "       [ 1.36155806e+00,  1.36638252e+00],\n",
              "       [-1.84892963e-03,  4.58145668e+00],\n",
              "       [-1.00934641e+00,  1.32451081e+00],\n",
              "       [ 2.60137487e+00,  1.08799459e+00],\n",
              "       [ 1.36034899e+00,  3.33361370e+00],\n",
              "       [ 4.59764179e-01,  1.26145537e+00],\n",
              "       [ 2.47019077e+00,  1.31451315e+00],\n",
              "       [ 2.51526543e+00,  1.11143935e+00],\n",
              "       [ 1.06923853e+00,  4.53068484e+00],\n",
              "       [-2.73674799e+00,  2.59420948e+00],\n",
              "       [-1.80822253e+00,  1.59701749e+00],\n",
              "       [ 7.28098690e-01,  3.85531444e+00],\n",
              "       [ 2.33812285e+00,  3.43116792e+00],\n",
              "       [-3.20150004e-01,  2.89112501e+00],\n",
              "       [ 2.72396035e-01,  5.46996004e+00],\n",
              "       [ 1.69747910e+00,  8.66123282e-01],\n",
              "       [ 1.76747403e+00,  1.26987864e+00],\n",
              "       [ 4.53791789e-01,  3.95647753e+00],\n",
              "       [ 1.67280531e+00,  6.59300571e-01],\n",
              "       [-2.15968109e+00,  3.41003096e+00],\n",
              "       [-2.32623101e+00,  1.73670745e+00],\n",
              "       [-9.61076361e-01,  1.27407596e+00],\n",
              "       [ 3.76140870e-01,  3.37692467e+00],\n",
              "       [ 7.89338559e-01,  4.33748653e+00],\n",
              "       [ 2.04505527e+00,  1.12515470e+00],\n",
              "       [-1.50470058e+00,  3.37862371e+00],\n",
              "       [-1.20091688e+00,  3.18130804e+00],\n",
              "       [-1.82859403e+00,  4.36535447e+00],\n",
              "       [-2.33565927e+00,  2.46093823e+00],\n",
              "       [ 2.44125620e+00, -4.47103852e-02],\n",
              "       [-4.87271301e-01,  3.32858293e+00],\n",
              "       [-2.07216196e+00,  2.66329169e+00],\n",
              "       [ 1.07627418e+00,  4.68480619e+00],\n",
              "       [ 2.61437655e+00,  1.10164265e+00],\n",
              "       [ 2.52706430e+00,  6.17812202e-01],\n",
              "       [ 1.37964693e+00,  4.54826443e+00],\n",
              "       [ 9.49425791e-01,  6.10879258e-01],\n",
              "       [ 1.00173317e+00,  1.16822434e+00],\n",
              "       [-1.30440901e+00,  3.00311934e+00],\n",
              "       [ 2.00555933e-01,  4.46401785e+00],\n",
              "       [ 1.13078931e+00,  9.35620856e-01],\n",
              "       [-7.91981675e-01,  2.95679593e+00],\n",
              "       [ 1.54632313e+00,  4.21297300e+00],\n",
              "       [ 1.68353782e+00,  4.19583243e+00],\n",
              "       [-1.99648151e+00,  2.85164868e+00],\n",
              "       [ 1.65225163e+00,  3.65582842e+00],\n",
              "       [-7.35421887e-01,  2.38843097e+00],\n",
              "       [-1.80701134e+00,  2.06773859e+00],\n",
              "       [-5.55523811e-01,  4.69595848e+00],\n",
              "       [-1.29726456e+00,  2.89733689e+00],\n",
              "       [ 5.59529363e-01,  4.21400660e+00],\n",
              "       [ 1.97369770e+00,  1.57979848e+00],\n",
              "       [ 1.69687788e+00,  7.54910622e-01],\n",
              "       [ 1.93112532e+00,  1.42577101e+00],\n",
              "       [ 2.01829168e+00,  8.33280494e-01],\n",
              "       [ 1.49493180e+00,  3.85848832e+00],\n",
              "       [ 1.43934441e+00,  4.79788982e+00],\n",
              "       [ 7.02950576e-01,  4.31427482e+00],\n",
              "       [ 1.54592256e+00,  4.35631807e+00],\n",
              "       [ 2.13003529e+00,  5.19209620e+00],\n",
              "       [-1.40986219e+00,  1.84894455e+00],\n",
              "       [-1.92203579e+00,  2.60934188e+00],\n",
              "       [ 1.86985974e+00, -1.07938624e-01],\n",
              "       [ 1.68908795e+00,  4.49395289e+00],\n",
              "       [ 1.41372442e+00,  4.38117707e+00],\n",
              "       [ 1.66382237e+00,  6.63091635e-01],\n",
              "       [ 2.04067185e+00,  4.54845114e-01],\n",
              "       [ 2.29469533e+00, -7.65891994e-01],\n",
              "       [-1.40732390e+00,  2.88752014e+00],\n",
              "       [ 2.57002188e+00,  1.58232478e+00],\n",
              "       [-2.01027992e+00,  2.24689511e+00],\n",
              "       [-2.09352511e+00,  3.06074415e+00],\n",
              "       [ 1.86873582e+00,  9.56103760e-01],\n",
              "       [ 2.11390250e+00,  1.24743587e+00],\n",
              "       [-1.64864212e+00,  2.85195259e+00],\n",
              "       [-9.61423142e-01,  2.75732541e+00],\n",
              "       [-6.18907164e-01,  3.24976150e+00],\n",
              "       [ 3.43761754e+00,  2.61654166e-01],\n",
              "       [ 1.29023607e+00,  4.20085953e+00],\n",
              "       [ 7.93137001e-03,  4.17614316e+00],\n",
              "       [-8.66733410e-01,  3.69669544e+00],\n",
              "       [ 1.64256495e+00,  1.69217218e-01],\n",
              "       [ 5.29417185e-01,  3.80792420e+00],\n",
              "       [ 9.08304183e-02,  2.87352746e+00],\n",
              "       [-2.50919762e+00,  9.01428613e+00],\n",
              "       [ 4.63987884e+00,  1.97316968e+00],\n",
              "       [-6.87962719e+00, -6.88010959e+00],\n",
              "       [-8.83832776e+00,  7.32352292e+00],\n",
              "       [ 2.02230023e+00,  4.16145156e+00],\n",
              "       [-9.58831011e+00,  9.39819704e+00],\n",
              "       [ 6.64885282e+00, -5.75321779e+00],\n",
              "       [-6.36350066e+00, -6.33190980e+00],\n",
              "       [-3.91515514e+00,  4.95128633e-01],\n",
              "       [-1.36109963e+00, -4.17541720e+00],\n",
              "       [ 2.23705789e+00, -7.21012279e+00],\n",
              "       [-4.15710703e+00, -2.67276313e+00],\n",
              "       [-8.78600316e-01,  5.70351923e+00],\n",
              "       [-6.00652436e+00,  2.84688768e-01],\n",
              "       [ 1.84829138e+00, -9.07099175e+00],\n",
              "       [ 2.15089704e+00, -6.58951753e+00],\n",
              "       [-8.69896814e+00,  8.97771075e+00],\n",
              "       [ 9.31264066e+00,  6.16794696e+00],\n",
              "       [-3.90772462e+00, -8.04655772e+00],\n",
              "       [ 3.68466053e+00, -1.19695013e+00]])"
            ]
          },
          "metadata": {},
          "execution_count": 6
        }
      ]
    },
    {
      "cell_type": "code",
      "source": [
        "sns.scatterplot(x=X[:,0],y=X[:,1])"
      ],
      "metadata": {
        "colab": {
          "base_uri": "https://localhost:8080/",
          "height": 448
        },
        "id": "caS78AWOEqei",
        "outputId": "ab11f6c2-1e6e-4d45-c2ce-16ec0d5c5ed9"
      },
      "execution_count": 8,
      "outputs": [
        {
          "output_type": "execute_result",
          "data": {
            "text/plain": [
              "<Axes: >"
            ]
          },
          "metadata": {},
          "execution_count": 8
        },
        {
          "output_type": "display_data",
          "data": {
            "text/plain": [
              "<Figure size 640x480 with 1 Axes>"
            ],
            "image/png": "[encoded data removed]"
          },
          "metadata": {}
        }
      ]
    },
    {
      "cell_type": "markdown",
      "source": [
        "# Anomoly detection"
      ],
      "metadata": {
        "id": "bQu02K3JEkqq"
      }
    },
    {
      "cell_type": "code",
      "source": [
        "dbscan = DBSCAN(eps=0.5)\n",
        "dbscan.fit(X)"
      ],
      "metadata": {
        "colab": {
          "base_uri": "https://localhost:8080/",
          "height": 74
        },
        "id": "_sqVPjWPEfJw",
        "outputId": "a6484710-55a7-4fbb-f84c-8c4b209a17ec"
      },
      "execution_count": 9,
      "outputs": [
        {
          "output_type": "execute_result",
          "data": {
            "text/plain": [
              "DBSCAN()"
            ],
            "text/html": [
              "<style>#sk-container-id-1 {color: black;}#sk-container-id-1 pre{padding: 0;}#sk-container-id-1 div.sk-toggleable {background-color: white;}#sk-container-id-1 label.sk-toggleable__label {cursor: pointer;display: block;width: 100%;margin-bottom: 0;padding: 0.3em;box-sizing: border-box;text-align: center;}#sk-container-id-1 label.sk-toggleable__label-arrow:before {content: \"▸\";float: left;margin-right: 0.25em;color: #696969;}#sk-container-id-1 label.sk-toggleable__label-arrow:hover:before {color: black;}#sk-container-id-1 div.sk-estimator:hover label.sk-toggleable__label-arrow:before {color: black;}#sk-container-id-1 div.sk-toggleable__content {max-height: 0;max-width: 0;overflow: hidden;text-align: left;background-color: #f0f8ff;}#sk-container-id-1 div.sk-toggleable__content pre {margin: 0.2em;color: black;border-radius: 0.25em;background-color: #f0f8ff;}#sk-container-id-1 input.sk-toggleable__control:checked~div.sk-toggleable__content {max-height: 200px;max-width: 100%;overflow: auto;}#sk-container-id-1 input.sk-toggleable__control:checked~label.sk-toggleable__label-arrow:before {content: \"▾\";}#sk-container-id-1 div.sk-estimator input.sk-toggleable__control:checked~label.sk-toggleable__label {background-color: #d4ebff;}#sk-container-id-1 div.sk-label input.sk-toggleable__control:checked~label.sk-toggleable__label {background-color: #d4ebff;}#sk-container-id-1 input.sk-hidden--visually {border: 0;clip: rect(1px 1px 1px 1px);clip: rect(1px, 1px, 1px, 1px);height: 1px;margin: -1px;overflow: hidden;padding: 0;position: absolute;width: 1px;}#sk-container-id-1 div.sk-estimator {font-family: monospace;background-color: #f0f8ff;border: 1px dotted black;border-radius: 0.25em;box-sizing: border-box;margin-bottom: 0.5em;}#sk-container-id-1 div.sk-estimator:hover {background-color: #d4ebff;}#sk-container-id-1 div.sk-parallel-item::after {content: \"\";width: 100%;border-bottom: 1px solid gray;flex-grow: 1;}#sk-container-id-1 div.sk-label:hover label.sk-toggleable__label {background-color: #d4ebff;}#sk-container-id-1 div.sk-serial::before {content: \"\";position: absolute;border-left: 1px solid gray;box-sizing: border-box;top: 0;bottom: 0;left: 50%;z-index: 0;}#sk-container-id-1 div.sk-serial {display: flex;flex-direction: column;align-items: center;background-color: white;padding-right: 0.2em;padding-left: 0.2em;position: relative;}#sk-container-id-1 div.sk-item {position: relative;z-index: 1;}#sk-container-id-1 div.sk-parallel {display: flex;align-items: stretch;justify-content: center;background-color: white;position: relative;}#sk-container-id-1 div.sk-item::before, #sk-container-id-1 div.sk-parallel-item::before {content: \"\";position: absolute;border-left: 1px solid gray;box-sizing: border-box;top: 0;bottom: 0;left: 50%;z-index: -1;}#sk-container-id-1 div.sk-parallel-item {display: flex;flex-direction: column;z-index: 1;position: relative;background-color: white;}#sk-container-id-1 div.sk-parallel-item:first-child::after {align-self: flex-end;width: 50%;}#sk-container-id-1 div.sk-parallel-item:last-child::after {align-self: flex-start;width: 50%;}#sk-container-id-1 div.sk-parallel-item:only-child::after {width: 0;}#sk-container-id-1 div.sk-dashed-wrapped {border: 1px dashed gray;margin: 0 0.4em 0.5em 0.4em;box-sizing: border-box;padding-bottom: 0.4em;background-color: white;}#sk-container-id-1 div.sk-label label {font-family: monospace;font-weight: bold;display: inline-block;line-height: 1.2em;}#sk-container-id-1 div.sk-label-container {text-align: center;}#sk-container-id-1 div.sk-container {/* jupyter's `normalize.less` sets `[hidden] { display: none; }` but bootstrap.min.css set `[hidden] { display: none !important; }` so we also need the `!important` here to be able to override the default hidden behavior on the sphinx rendered scikit-learn.org. See: https://github.com/scikit-learn/scikit-learn/issues/21755 */display: inline-block !important;position: relative;}#sk-container-id-1 div.sk-text-repr-fallback {display: none;}</style><div id=\"sk-container-id-1\" class=\"sk-top-container\"><div class=\"sk-text-repr-fallback\"><pre>DBSCAN()</pre><b>In a Jupyter environment, please rerun this cell to show the HTML representation or trust the notebook. <br />On GitHub, the HTML representation is unable to render, please try loading this page with nbviewer.org.</b></div><div class=\"sk-container\" hidden><div class=\"sk-item\"><div class=\"sk-estimator sk-toggleable\"><input class=\"sk-toggleable__control sk-hidden--visually\" id=\"sk-estimator-id-1\" type=\"checkbox\" checked><label for=\"sk-estimator-id-1\" class=\"sk-toggleable__label sk-toggleable__label-arrow\">DBSCAN</label><div class=\"sk-toggleable__content\"><pre>DBSCAN()</pre></div></div></div></div></div>"
            ]
          },
          "metadata": {},
          "execution_count": 9
        }
      ]
    },
    {
      "cell_type": "code",
      "source": [
        "dbscan.labels_"
      ],
      "metadata": {
        "colab": {
          "base_uri": "https://localhost:8080/"
        },
        "id": "LD6PsB60FAFg",
        "outputId": "6a278b9f-995b-4999-e0de-39ed4c68be29"
      },
      "execution_count": 10,
      "outputs": [
        {
          "output_type": "execute_result",
          "data": {
            "text/plain": [
              "array([ 0,  1,  0,  2,  2,  2,  1,  0,  2,  2,  1,  1,  1,  0,  1,  2,  0,\n",
              "        0,  2,  1,  2,  0,  1,  0,  2,  2,  0,  2,  1,  1,  2,  0,  0,  1,\n",
              "        1,  2,  1, -1,  0,  1,  2,  1,  0,  1,  1,  2,  1, -1,  2,  1,  2,\n",
              "        1,  2,  2,  1,  0,  0,  2,  2,  0,  1,  1,  0,  2,  1,  2,  0,  1,\n",
              "        0,  1,  2,  2,  2,  2,  1,  0,  1,  2,  0,  0,  2,  0,  1,  0,  0,\n",
              "        0,  1,  2,  0,  0,  2,  1,  2,  0,  1,  1,  0,  1,  2,  0,  1,  2,\n",
              "        0,  1,  0,  0,  2,  0,  1,  1,  0,  2,  0,  0,  2,  2,  0,  0,  1,\n",
              "        1,  1,  2,  1,  1,  1,  2,  1,  1,  1,  2,  2,  2,  0,  2,  2,  1,\n",
              "        2,  0,  2,  2,  1,  0,  1,  0,  2,  2,  0,  2,  2,  1,  0,  2,  0,\n",
              "        1,  2,  2,  1,  1,  0,  1,  0,  0,  1,  0,  2,  0,  0,  0,  0,  2,\n",
              "        1,  0,  2,  1,  1, -1,  0,  1,  0,  0,  1,  2,  0,  0,  0,  0,  1,\n",
              "        2,  0,  2,  0,  0,  1,  1,  2,  0,  1,  2,  0,  2,  1,  2,  0,  2,\n",
              "        1,  2,  0,  2,  0,  1,  0,  0,  2,  1,  1,  1,  1,  0, -1,  1,  0,\n",
              "       -1,  1,  1,  0,  2,  2,  0, -1,  2,  0,  1,  1,  0,  1,  2, -1, -1,\n",
              "        0,  0,  1,  2,  2, -1,  2,  1,  2,  2,  0,  1,  1,  0,  1,  1,  2,\n",
              "        0,  1,  2,  0,  0,  2,  0,  2,  2, -1,  2,  0,  1,  1,  1,  1,  0,\n",
              "        0,  0,  0,  0,  2,  2,  1,  0,  0,  1,  1, -1,  2,  1,  2,  2,  1,\n",
              "        1,  2,  2,  2, -1,  0,  0,  2,  1,  0,  0, -1, -1, -1, -1,  0, -1,\n",
              "       -1, -1, -1, -1, -1, -1, -1, -1, -1, -1, -1, -1, -1, -1])"
            ]
          },
          "metadata": {},
          "execution_count": 10
        }
      ]
    },
    {
      "cell_type": "code",
      "source": [
        "sns.scatterplot(x=X[:,0],y=X[:,1],hue=dbscan.labels_,palette=\"colorblind\")"
      ],
      "metadata": {
        "colab": {
          "base_uri": "https://localhost:8080/",
          "height": 448
        },
        "id": "QI5f0tyBFBcW",
        "outputId": "5aca3b7a-d894-4160-80d5-46d3130d4c19"
      },
      "execution_count": 21,
      "outputs": [
        {
          "output_type": "execute_result",
          "data": {
            "text/plain": [
              "<Axes: >"
            ]
          },
          "metadata": {},
          "execution_count": 21
        },
        {
          "output_type": "display_data",
          "data": {
            "text/plain": [
              "<Figure size 640x480 with 1 Axes>"
            ],
            "image/png": "[encoded data removed]"
          },
          "metadata": {}
        }
      ]
    },
    {
      "cell_type": "code",
      "source": [],
      "metadata": {
        "id": "3FYO_VwzFJuH"
      },
      "execution_count": null,
      "outputs": []
    }
  ]
}